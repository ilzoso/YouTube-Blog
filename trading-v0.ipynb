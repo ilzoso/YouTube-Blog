{
 "cells": [
  {
   "cell_type": "markdown",
   "id": "6c8cc090",
   "metadata": {},
   "source": [
    "This notebook loads all the Question and Answer pairs from a CSV file\n",
    "Using a given input question, I would then:\n",
    "- Use query decomposition to construct multiple candidate subqueries\n",
    "- Feed the subqueries and the QnA pairs to a Cross-Encoder and return the top matching questions"
   ]
  },
  {
   "cell_type": "code",
   "execution_count": 1,
   "id": "7e467369",
   "metadata": {},
   "outputs": [
    {
     "data": {
      "application/vnd.jupyter.widget-view+json": {
       "model_id": "4533ff5a0f2c41859129603cdbb52f44",
       "version_major": 2,
       "version_minor": 0
      },
      "text/plain": [
       "Map:   0%|          | 0/47 [00:00<?, ? examples/s]"
      ]
     },
     "metadata": {},
     "output_type": "display_data"
    },
    {
     "data": {
      "application/vnd.jupyter.widget-view+json": {
       "model_id": "eb8d211e45c34a92a5fc7e23ad803a99",
       "version_major": 2,
       "version_minor": 0
      },
      "text/plain": [
       "Casting the dataset:   0%|          | 0/47 [00:00<?, ? examples/s]"
      ]
     },
     "metadata": {},
     "output_type": "display_data"
    }
   ],
   "source": [
    "import random\n",
    "from collections import defaultdict\n",
    "from sentence_transformers import CrossEncoder, SentenceTransformer, SentencesDataset, SentenceTransformerTrainer, SentenceTransformerTrainingArguments, losses, SimilarityFunction\n",
    "from sentence_transformers.sampler import BatchSampler\n",
    "from sentence_transformers.training_args import BatchSamplers\n",
    "from sentence_transformers.losses import TripletLoss\n",
    "from sentence_transformers.readers import LabelSentenceReader, InputExample\n",
    "from torch.utils.data import DataLoader\n",
    "from datasets import Dataset, load_dataset, Value\n",
    "import chromadb\n",
    "\n",
    "trained_model_path = \"models/all-MiniLM-L6-v2-trained\"\n",
    "model_r_name = \"cross-encoder/ms-marco-MiniLM-L6-v2\"\n",
    "\n",
    "# Load fine-tuned model - we are using a Sentence-BERT model\n",
    "model2 = SentenceTransformer.load(trained_model_path)\n",
    "# Load Re-ranker model (cross encoder specifically)\n",
    "model_r = CrossEncoder(model_r_name)\n",
    "\n",
    "dataset = Dataset.from_csv(\"trading-v0.csv\")\n",
    "\n",
    "dataset = dataset.rename_column(\"Questions\", \"anchor\")\n",
    "dataset = dataset.rename_column(\"Answers\", \"positive\")\n",
    "dataset = dataset.map(lambda e, i: {'negative': f\"I do not know\"}, with_indices=True).cast_column('negative', Value(dtype='string'))"
   ]
  },
  {
   "cell_type": "code",
   "execution_count": 2,
   "id": "09552a96",
   "metadata": {},
   "outputs": [],
   "source": [
    "import dspy\n",
    "lm = dspy.LM('ollama_chat/gemma3', api_base='http://localhost:11434', api_key='', cache=False, temperature=0)\n",
    "dspy.configure(lm=lm)"
   ]
  },
  {
   "cell_type": "code",
   "execution_count": 3,
   "id": "4f257ae7",
   "metadata": {},
   "outputs": [],
   "source": [
    "import dspy\n",
    "from dspy import Signature\n",
    "decomposer = dspy.Predict('question, context -> subquestions: list, confidence: float')"
   ]
  },
  {
   "cell_type": "code",
   "execution_count": 34,
   "id": "9244f086",
   "metadata": {},
   "outputs": [],
   "source": [
    "question = \"Do I have to report my HYSA?\" # \"Do I need preapproval for trading QQQ?\""
   ]
  },
  {
   "cell_type": "code",
   "execution_count": 35,
   "id": "9b5539ab",
   "metadata": {},
   "outputs": [
    {
     "name": "stderr",
     "output_type": "stream",
     "text": [
      "2025/05/11 11:51:33 WARNING dspy.predict.predict: Not all input fields were provided to module. Present: ['question']. Missing: ['context'].\n"
     ]
    },
    {
     "name": "stdout",
     "output_type": "stream",
     "text": [
      "['What is a HYSA?', 'Are there any tax implications of reporting a HYSA?', 'Does the IRS require reporting of HYSA interest income?', 'What are the potential penalties for failing to report HYSA interest?', 'Are there specific circumstances where reporting a HYSA is recommended (e.g., for tax planning)?']\n"
     ]
    }
   ],
   "source": [
    "res = decomposer(question=f\"Decompose this complex question into relevant sub-questions. \\n\\n{question}\")\n",
    "\n",
    "subquestions = []\n",
    "for subq in res.subquestions:\n",
    "    if type(subq) is dict:\n",
    "        subquestions.append(subq['question'])\n",
    "    else:\n",
    "        subquestions.append(subq)\n",
    "print(subquestions)"
   ]
  },
  {
   "cell_type": "code",
   "execution_count": null,
   "id": "a68c28b7",
   "metadata": {},
   "outputs": [
    {
     "name": "stdout",
     "output_type": "stream",
     "text": [
      "[np.float32(-7.8458185), np.float32(-9.172959), np.float32(-9.357361), np.float32(-9.963114), np.float32(-10.273611), np.float32(-10.322607), np.float32(-10.483141), np.float32(-10.551), np.float32(-10.570628), np.float32(-10.734219), np.float32(-10.739819), np.float32(-10.793228), np.float32(-10.832656), np.float32(-10.850616), np.float32(-10.858981), np.float32(-10.888412), np.float32(-10.913237), np.float32(-10.962453), np.float32(-10.978567), np.float32(-11.002724), np.float32(-11.008127), np.float32(-11.0165825), np.float32(-11.017458), np.float32(-11.018847), np.float32(-11.019191), np.float32(-11.059926), np.float32(-11.074915), np.float32(-11.090278), np.float32(-11.093088), np.float32(-11.105385), np.float32(-11.108767), np.float32(-11.125722), np.float32(-11.134575), np.float32(-11.139936), np.float32(-11.141357), np.float32(-11.144301), np.float32(-11.147865), np.float32(-11.15118), np.float32(-11.151602), np.float32(-11.162624), np.float32(-11.168293), np.float32(-11.171454), np.float32(-11.178631), np.float32(-11.1938715), np.float32(-11.197048), np.float32(-11.198097), np.float32(-11.202847), np.float32(-11.213839), np.float32(-11.216505), np.float32(-11.227083), np.float32(-11.229564), np.float32(-11.232914), np.float32(-11.251719), np.float32(-11.260239), np.float32(-11.26568), np.float32(-11.272833), np.float32(-11.273912), np.float32(-11.280559), np.float32(-11.280828), np.float32(-11.282321), np.float32(-11.286987), np.float32(-11.290508), np.float32(-11.290709), np.float32(-11.293587), np.float32(-11.299948), np.float32(-11.306139), np.float32(-11.307657), np.float32(-11.308029), np.float32(-11.312247), np.float32(-11.314033), np.float32(-11.314936), np.float32(-11.317138), np.float32(-11.325858), np.float32(-11.330524), np.float32(-11.334046), np.float32(-11.33663), np.float32(-11.337584), np.float32(-11.337593), np.float32(-11.342799), np.float32(-11.346384), np.float32(-11.3484535), np.float32(-11.35287), np.float32(-11.353472), np.float32(-11.354621), np.float32(-11.356202), np.float32(-11.358221), np.float32(-11.361416), np.float32(-11.364), np.float32(-11.368388), np.float32(-11.370033), np.float32(-11.371985), np.float32(-11.372209), np.float32(-11.375532), np.float32(-11.37776), np.float32(-11.382776), np.float32(-11.389275), np.float32(-11.390486), np.float32(-11.396327), np.float32(-11.396955), np.float32(-11.398055), np.float32(-11.403887), np.float32(-11.404038), np.float32(-11.405378), np.float32(-11.407003), np.float32(-11.407721), np.float32(-11.408424), np.float32(-11.409905), np.float32(-11.411899), np.float32(-11.415108), np.float32(-11.416525), np.float32(-11.416673), np.float32(-11.416821), np.float32(-11.416958), np.float32(-11.417725), np.float32(-11.420772), np.float32(-11.422625), np.float32(-11.422976), np.float32(-11.423414), np.float32(-11.424392), np.float32(-11.424559), np.float32(-11.424835), np.float32(-11.426052), np.float32(-11.42654), np.float32(-11.427137), np.float32(-11.427359), np.float32(-11.427494), np.float32(-11.428318), np.float32(-11.429019), np.float32(-11.429446), np.float32(-11.429455), np.float32(-11.429916), np.float32(-11.430982), np.float32(-11.431501), np.float32(-11.432727), np.float32(-11.432875), np.float32(-11.433154), np.float32(-11.434833), np.float32(-11.43568), np.float32(-11.437068), np.float32(-11.43769), np.float32(-11.437701), np.float32(-11.4382305), np.float32(-11.438393), np.float32(-11.43899), np.float32(-11.439024), np.float32(-11.443794), np.float32(-11.4439535), np.float32(-11.443991), np.float32(-11.444228), np.float32(-11.444871), np.float32(-11.44564), np.float32(-11.445836), np.float32(-11.446861), np.float32(-11.446934), np.float32(-11.447596), np.float32(-11.447646), np.float32(-11.447717), np.float32(-11.448133), np.float32(-11.448654), np.float32(-11.44932), np.float32(-11.449574), np.float32(-11.4499), np.float32(-11.450652), np.float32(-11.451454), np.float32(-11.451576), np.float32(-11.452457), np.float32(-11.455542), np.float32(-11.456028), np.float32(-11.45606), np.float32(-11.457126), np.float32(-11.457663), np.float32(-11.458851), np.float32(-11.458885), np.float32(-11.459689), np.float32(-11.459795), np.float32(-11.459874), np.float32(-11.460593), np.float32(-11.461287), np.float32(-11.461805), np.float32(-11.462157), np.float32(-11.462816), np.float32(-11.463374), np.float32(-11.463979), np.float32(-11.464777), np.float32(-11.465357), np.float32(-11.465768), np.float32(-11.465874), np.float32(-11.465935), np.float32(-11.46616), np.float32(-11.466388), np.float32(-11.467529), np.float32(-11.469146), np.float32(-11.469742), np.float32(-11.469749), np.float32(-11.469866), np.float32(-11.470129), np.float32(-11.470844), np.float32(-11.471432), np.float32(-11.472146), np.float32(-11.473009), np.float32(-11.473271), np.float32(-11.474044), np.float32(-11.474487), np.float32(-11.4749565), np.float32(-11.477325), np.float32(-11.4779825), np.float32(-11.479246), np.float32(-11.480614), np.float32(-11.48125), np.float32(-11.481733), np.float32(-11.481739), np.float32(-11.481987), np.float32(-11.48227), np.float32(-11.482555), np.float32(-11.482885), np.float32(-11.48407), np.float32(-11.484726), np.float32(-11.485326), np.float32(-11.4866295), np.float32(-11.486725), np.float32(-11.486965), np.float32(-11.487085), np.float32(-11.4885845), np.float32(-11.4890175), np.float32(-11.489338), np.float32(-11.490038), np.float32(-11.490844), np.float32(-11.491735), np.float32(-11.492563), np.float32(-11.494134), np.float32(-11.495743), np.float32(-11.495932), np.float32(-11.49647), np.float32(-11.49684), np.float32(-11.497284)]\n",
      "Best Global Match:\n",
      "  Query: Does the IRS require reporting of HYSA interest income?\n",
      "  Candidate: Do high yield savings need to be reported?\n",
      "  Score: -7.8458\n"
     ]
    }
   ],
   "source": [
    "import numpy as np\n",
    "\n",
    "queries = subquestions\n",
    "sentences = dataset['anchor']\n",
    "candidates = sentences\n",
    "\n",
    "all_pairs = [(q, c) for q in queries for c in candidates]\n",
    "all_scores = model_r.predict(all_pairs)\n",
    "\n",
    "print(sorted(all_scores, reverse=True))\n",
    "\n",
    "best_idx = np.argmax(all_scores)\n",
    "best_pair = all_pairs[best_idx]\n",
    "response = next((x['positive'] for x in dataset if x['anchor'] == best_pair[1]), None)\n",
    "print(f\"Best Global Match:\\n  Query: {best_pair[0]}\\n  Candidate: {best_pair[1]}\\n  Response: {response}\\n  Score: {all_scores[best_idx]:.4f}\")"
   ]
  },
  {
   "cell_type": "code",
   "execution_count": 37,
   "id": "01aaf5af",
   "metadata": {},
   "outputs": [
    {
     "name": "stdout",
     "output_type": "stream",
     "text": [
      "Query ==> Do I have to report my HYSA?\n",
      "-7.83\t Do high yield savings need to be reported?\n",
      "-8.65\t Do i have to declare restricted stocks awarded by my previous employer\n",
      "-8.86\t Do I have to disclose my 529 account opened by my parents. I don't have access Do i need to disclose my parents trades, even though i have no access to them?\n",
      "-8.93\t Do we have to disclose accounts for family members I live with but don't have any access to\n",
      "-8.96\t Do i have to disclose accounts that I don't have any investments in? (Ex. Robinhood account with no investments in currently)\n",
      "-9.83\t Are normal 401Ks required to be reported from prior employers?\n",
      "-9.91\t Do we have to disclose index futures trading accounts?\n",
      "-10.54\t Do we need to declare non restricted securities.\n",
      "-10.56\t Do we have to disclose we have an account with Robinhood or Fidelity if there is no money or trades in said accounts?\n",
      "-10.88\t Do my wife's 403B account have to be disclosed?\n",
      "-10.95\t Do I need to transfer my Fundrise account?\n",
      "-11.11\t Can you put contact info for the Compliance department?\n",
      "-11.17\t Do accounts need disclosed of a partner that you're not married to?\n",
      "-11.21\t An IRA does not need to be disclosed, correct?\n",
      "-11.27\t Do parents need pre approval?\n",
      "-11.28\t Do we have to consolidate our 401(k)s?\n",
      "-11.31\t Do accounts With target funds do they need to be disclosed?\n",
      "-11.32\t Do we need to disclose 401K with just MFs?\n",
      "-11.33\t Do we need approval to add money to our Ira or only when we're purchasing assets in that Ira??\n",
      "-11.35\t Are Roth accounts subject of disclosure in general?\n",
      "-11.36\t Do Cryptocurrency Options need to be disclosed because they are options, or are they exempt because they refer to cryptocurrencies?\n",
      "-11.36\t Do we need approval from Fisher in order to open a brokerage account?\n",
      "-11.37\t Can I submit a request just out of curiosity to see if a stock/ETF can get approved even if i don't end up making the trade?\n",
      "-11.38\t Do Robinhood accounts need to be transferred?\n",
      "-11.39\t Do Acorns accounts need to be transferred?\n",
      "-11.39\t Can you put the phone number again please?\n",
      "-11.39\t Are Pre-Approvals while OOO required for a partners accounts?\n",
      "-11.40\t Can you speak to automatic dividend reinvestment plans (DRIP)?\n",
      "-11.40\t Can you explain when our health benefits are available to us?\n",
      "-11.41\t Do trades on money market mutual funds need to be disclosed?\n",
      "-11.41\t Can I get in trouble for the trade acts made by a third party account for a partner's account?\n",
      "-11.41\t Do brokerage CDs need to be precleared before buying?\n",
      "-11.41\t Are there discounts for employees who want to become clients in order to continue trading?\n",
      "-11.42\t Are there any additional disclosures needed for rolling over a non disclosed 401k into an Ira that has already been disclosed\n",
      "-11.43\t Can i buy more than what i requested in trade request\n",
      "-11.44\t Are derivatives allowed if they are on a restricted security? Ex: options trade on a blue chip stock\n",
      "-11.44\t Can we trade SPY and SPY options?\n",
      "-11.45\t Can we view the model portfolio so that we know which securities are not tradeable?\n",
      "-11.45\t Can we have an IRA through PNC investments?\n",
      "-11.45\t Are we allowed to sell options on futures contract ( oil, corn, etc..)\n",
      "-11.46\t Are we eligible for a 401k at FI?\n",
      "-11.47\t Can we reinvest dividends from a stock that we currently own?\n",
      "-11.47\t Are we allowed to trade ODTE options on spy or qqq?\n",
      "-11.48\t Are index options under the same category as stock options?\n",
      "-11.48\t Can we create an account with fisher? Can I become a client of fisher to have a trading account?\n",
      "-11.49\t Can I buy long term call options on $VOO?\n",
      "-11.49\t Can you show us how to get to the LCD screen on FlIRE?\n"
     ]
    }
   ],
   "source": [
    "ranks = model_r.rank(question, sentences)\n",
    "print(f\"Query ==> {question}\")\n",
    "for rank in ranks:\n",
    "    print(f\"{rank['score']:.2f}\\t {sentences[rank['corpus_id']]}\")"
   ]
  }
 ],
 "metadata": {
  "kernelspec": {
   "display_name": "venv-10",
   "language": "python",
   "name": "python3"
  },
  "language_info": {
   "codemirror_mode": {
    "name": "ipython",
    "version": 3
   },
   "file_extension": ".py",
   "mimetype": "text/x-python",
   "name": "python",
   "nbconvert_exporter": "python",
   "pygments_lexer": "ipython3",
   "version": "3.10.11"
  }
 },
 "nbformat": 4,
 "nbformat_minor": 5
}
